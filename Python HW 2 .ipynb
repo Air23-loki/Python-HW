{
 "cells": [
  {
   "cell_type": "code",
   "execution_count": 6,
   "metadata": {},
   "outputs": [],
   "source": [
    "##Write a Python program to convert kilometers to miles?\n",
    "def convertor():\n",
    "    a = float(input(\"Enter the value in kilometer\"))\n",
    "    return a * 0.621"
   ]
  },
  {
   "cell_type": "code",
   "execution_count": 7,
   "metadata": {},
   "outputs": [
    {
     "name": "stdout",
     "output_type": "stream",
     "text": [
      "Enter the value in kilometer100\n"
     ]
    },
    {
     "data": {
      "text/plain": [
       "62.1"
      ]
     },
     "execution_count": 7,
     "metadata": {},
     "output_type": "execute_result"
    }
   ],
   "source": [
    "convertor()"
   ]
  },
  {
   "cell_type": "code",
   "execution_count": 8,
   "metadata": {},
   "outputs": [],
   "source": [
    "##Write a Python program to convert Celsius to Fahrenheit?\n",
    "def tempconvert():\n",
    "    a = float(input(\"Enter Temperature in Celcius\"))\n",
    "    return (a * 1.8) + 32 "
   ]
  },
  {
   "cell_type": "code",
   "execution_count": 9,
   "metadata": {},
   "outputs": [
    {
     "name": "stdout",
     "output_type": "stream",
     "text": [
      "Enter Temperature in Celcius0\n"
     ]
    },
    {
     "data": {
      "text/plain": [
       "32.0"
      ]
     },
     "execution_count": 9,
     "metadata": {},
     "output_type": "execute_result"
    }
   ],
   "source": [
    "tempconvert()"
   ]
  },
  {
   "cell_type": "code",
   "execution_count": 17,
   "metadata": {},
   "outputs": [],
   "source": [
    "##Write a Python program to display calendar?\n",
    "def cal():\n",
    "    import calendar as calender\n",
    "    yr = int(input(\"Enter the Year \"))\n",
    "    mn = int (input(\"Enter the month \"))\n",
    "    if mn > 0 and mn < 13:\n",
    "        print (calender.month(yr,mn))\n",
    "    else:\n",
    "        print(\"Enter a number between 1 and 12\")"
   ]
  },
  {
   "cell_type": "code",
   "execution_count": 18,
   "metadata": {},
   "outputs": [
    {
     "name": "stdout",
     "output_type": "stream",
     "text": [
      "Enter the Year 2011\n",
      "Enter the month 15\n",
      "Enter a number between 1 and 12\n"
     ]
    }
   ],
   "source": [
    "cal()"
   ]
  },
  {
   "cell_type": "code",
   "execution_count": 19,
   "metadata": {},
   "outputs": [
    {
     "name": "stdout",
     "output_type": "stream",
     "text": [
      "Enter the Year 2011\n",
      "Enter the month 06\n",
      "     June 2011\n",
      "Mo Tu We Th Fr Sa Su\n",
      "       1  2  3  4  5\n",
      " 6  7  8  9 10 11 12\n",
      "13 14 15 16 17 18 19\n",
      "20 21 22 23 24 25 26\n",
      "27 28 29 30\n",
      "\n"
     ]
    }
   ],
   "source": [
    "cal()"
   ]
  },
  {
   "cell_type": "code",
   "execution_count": 20,
   "metadata": {},
   "outputs": [],
   "source": [
    "##Write a Python program to solve quadratic equation?\n"
   ]
  },
  {
   "cell_type": "code",
   "execution_count": null,
   "metadata": {},
   "outputs": [],
   "source": []
  },
  {
   "cell_type": "code",
   "execution_count": null,
   "metadata": {},
   "outputs": [],
   "source": []
  },
  {
   "cell_type": "code",
   "execution_count": 28,
   "metadata": {},
   "outputs": [],
   "source": [
    "##Write a Python program to swap two variables without temp variable?\n",
    "def swap(x,y):\n",
    "    x = x + y \n",
    "    y = x - y\n",
    "    x = x - y\n",
    "    print(x, y)\n"
   ]
  },
  {
   "cell_type": "code",
   "execution_count": 29,
   "metadata": {},
   "outputs": [
    {
     "name": "stdout",
     "output_type": "stream",
     "text": [
      "5 10\n"
     ]
    }
   ],
   "source": [
    "swap(10,5)"
   ]
  },
  {
   "cell_type": "code",
   "execution_count": 40,
   "metadata": {},
   "outputs": [],
   "source": [
    "def quad():\n",
    "    print(\"The formula is in the form ax^2 + bx + c = 0 with all real numbers\")\n",
    "    a = float(input(\"Give value of a \"))\n",
    "    b = float(input(\"Give value of b \"))\n",
    "    c = float(input(\"Give value of c \"))\n",
    "    x = (b**2) - (4*a*c)\n",
    "    if x < 0:\n",
    "        print(\"No real solutions present\")\n",
    "    else:\n",
    "        Sol1 = (-b - (x**0.5)) / (2*a)\n",
    "        Sol2 = (-b + (x**0.5)) / (2*a)\n",
    "        print(Sol1, Sol2)"
   ]
  },
  {
   "cell_type": "code",
   "execution_count": null,
   "metadata": {},
   "outputs": [
    {
     "name": "stdout",
     "output_type": "stream",
     "text": [
      "The formula is in the form ax^2 + bx + c = 0 with all real numbers\n"
     ]
    }
   ],
   "source": [
    "quad()\n"
   ]
  },
  {
   "cell_type": "code",
   "execution_count": null,
   "metadata": {},
   "outputs": [],
   "source": []
  }
 ],
 "metadata": {
  "kernelspec": {
   "display_name": "Python 3",
   "language": "python",
   "name": "python3"
  },
  "language_info": {
   "codemirror_mode": {
    "name": "ipython",
    "version": 3
   },
   "file_extension": ".py",
   "mimetype": "text/x-python",
   "name": "python",
   "nbconvert_exporter": "python",
   "pygments_lexer": "ipython3",
   "version": "3.8.5"
  }
 },
 "nbformat": 4,
 "nbformat_minor": 4
}
