{
 "cells": [
  {
   "cell_type": "code",
   "execution_count": 9,
   "metadata": {},
   "outputs": [],
   "source": [
    "class file:\n",
    "    def __init__(self, file_name, file_type, size):\n",
    "        self.file_name = file_name\n",
    "        self.file_type = file_type\n",
    "        self.size = size\n",
    "    def file_read(self):\n",
    "        try: \n",
    "            myfile = open(self.file_name,\"r\")\n",
    "            print(myfile.read())\n",
    "        except IOError:\n",
    "            print(\"File doesnot exist, new file has been created\")\n",
    "            myfile = open(self.file_name,\"w+\")\n",
    "            myfile.write(\"This is a new file\")\n",
    "            print(myfile.read())\n",
    "            myfile.close()\n",
    "        else:\n",
    "            myfile.read()\n",
    "    \n",
    "    def file_open(self):\n",
    "        file = open(self.file_name,\"w+\")\n",
    "        file.write(\"This is my test file\")\n",
    "    \n",
    "    def file_append(self):\n",
    "        file = open(self.file_name, \"a+\")\n",
    "        file.write(\"\\nA new line has been added\")\n",
    "        file.seek(0)\n",
    "        print(file.read())\n",
    "            "
   ]
  },
  {
   "cell_type": "code",
   "execution_count": 10,
   "metadata": {},
   "outputs": [],
   "source": [
    "run = file(\"run\",\"txt\", 4)"
   ]
  },
  {
   "cell_type": "code",
   "execution_count": 11,
   "metadata": {},
   "outputs": [
    {
     "name": "stdout",
     "output_type": "stream",
     "text": [
      "File doesnot exist, new file has been created\n",
      "\n"
     ]
    }
   ],
   "source": [
    "run.file_read()"
   ]
  },
  {
   "cell_type": "code",
   "execution_count": null,
   "metadata": {},
   "outputs": [],
   "source": []
  }
 ],
 "metadata": {
  "kernelspec": {
   "display_name": "Python 3",
   "language": "python",
   "name": "python3"
  },
  "language_info": {
   "codemirror_mode": {
    "name": "ipython",
    "version": 3
   },
   "file_extension": ".py",
   "mimetype": "text/x-python",
   "name": "python",
   "nbconvert_exporter": "python",
   "pygments_lexer": "ipython3",
   "version": "3.8.5"
  }
 },
 "nbformat": 4,
 "nbformat_minor": 4
}
